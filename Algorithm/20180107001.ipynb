{
 "cells": [
  {
   "cell_type": "code",
   "execution_count": 11,
   "metadata": {},
   "outputs": [],
   "source": [
    "import numpy as np\n",
    "from time import time"
   ]
  },
  {
   "cell_type": "code",
   "execution_count": 45,
   "metadata": {},
   "outputs": [
    {
     "name": "stdout",
     "output_type": "stream",
     "text": [
      "0.04961204528808594\n"
     ]
    }
   ],
   "source": [
    "def quick_sort(ary):\n",
    "    \n",
    "    if len(ary) <= 1:\n",
    "        return ary\n",
    "    \n",
    "    center = ary[0]\n",
    "    rest = ary[1:]\n",
    "    left = [x for x in rest if center >= x]\n",
    "    right = [x for x in rest if center < x]\n",
    "            \n",
    "    return quicksort(left) + [center] + quicksort(right)\n",
    "\n",
    "ary = np.random.randint(1,10000,10000)\n",
    "t1 = time()\n",
    "sorted_list = quick_sort(ary)\n",
    "t2 = time()\n",
    "print(t2-t1)"
   ]
  },
  {
   "cell_type": "code",
   "execution_count": 51,
   "metadata": {},
   "outputs": [
    {
     "data": {
      "text/plain": [
       "[6,\n",
       " 8,\n",
       " 9,\n",
       " 9,\n",
       " 10,\n",
       " 10,\n",
       " 11,\n",
       " 13,\n",
       " 13,\n",
       " 14,\n",
       " 14,\n",
       " 14,\n",
       " 15,\n",
       " 19,\n",
       " 20,\n",
       " 22,\n",
       " 22,\n",
       " 24,\n",
       " 25,\n",
       " 25,\n",
       " 26,\n",
       " 28,\n",
       " 30,\n",
       " 30,\n",
       " 30,\n",
       " 31,\n",
       " 32,\n",
       " 33,\n",
       " 33,\n",
       " 34,\n",
       " 34,\n",
       " 35,\n",
       " 36,\n",
       " 36,\n",
       " 37,\n",
       " 37,\n",
       " 38,\n",
       " 41,\n",
       " 42,\n",
       " 42,\n",
       " 42,\n",
       " 43,\n",
       " 46,\n",
       " 47,\n",
       " 47,\n",
       " 47,\n",
       " 49,\n",
       " 50,\n",
       " 50,\n",
       " 52,\n",
       " 52,\n",
       " 53,\n",
       " 53,\n",
       " 56,\n",
       " 56,\n",
       " 58,\n",
       " 62,\n",
       " 63,\n",
       " 63,\n",
       " 64,\n",
       " 65,\n",
       " 67,\n",
       " 68,\n",
       " 69,\n",
       " 71,\n",
       " 72,\n",
       " 72,\n",
       " 73,\n",
       " 78,\n",
       " 79,\n",
       " 80,\n",
       " 82,\n",
       " 83,\n",
       " 83,\n",
       " 84,\n",
       " 85,\n",
       " 87,\n",
       " 89,\n",
       " 89,\n",
       " 93,\n",
       " 94,\n",
       " 95,\n",
       " 95,\n",
       " 97,\n",
       " 97,\n",
       " 97,\n",
       " 98,\n",
       " 99,\n",
       " 100,\n",
       " 100,\n",
       " 102,\n",
       " 104,\n",
       " 104,\n",
       " 105,\n",
       " 105,\n",
       " 106,\n",
       " 106,\n",
       " 107,\n",
       " 108,\n",
       " 109]"
      ]
     },
     "execution_count": 51,
     "metadata": {},
     "output_type": "execute_result"
    }
   ],
   "source": [
    "sorted_list[:100]"
   ]
  },
  {
   "cell_type": "code",
   "execution_count": null,
   "metadata": {
    "collapsed": true
   },
   "outputs": [],
   "source": []
  }
 ],
 "metadata": {
  "kernelspec": {
   "display_name": "Python 3",
   "language": "python",
   "name": "python3"
  },
  "language_info": {
   "codemirror_mode": {
    "name": "ipython",
    "version": 3
   },
   "file_extension": ".py",
   "mimetype": "text/x-python",
   "name": "python",
   "nbconvert_exporter": "python",
   "pygments_lexer": "ipython3",
   "version": "3.5.0"
  }
 },
 "nbformat": 4,
 "nbformat_minor": 2
}

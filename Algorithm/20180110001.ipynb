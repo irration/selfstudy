{
 "cells": [
  {
   "cell_type": "code",
   "execution_count": 10,
   "metadata": {
    "collapsed": true
   },
   "outputs": [],
   "source": [
    "# code reference: [Python] ヒープソートの実装方法とアルゴリズム - Web備忘録\n",
    "# https://webbibouroku.com/Blog/Article/py-heapsort\n",
    "import numpy as np\n",
    "from time import time"
   ]
  },
  {
   "cell_type": "code",
   "execution_count": 16,
   "metadata": {},
   "outputs": [
    {
     "name": "stdout",
     "output_type": "stream",
     "text": [
      "[   4    4    4 ..., 9997 9998 9999]\n",
      "0.1318809986114502\n"
     ]
    }
   ],
   "source": [
    "def heap_sort(ary):\n",
    "    i = 0\n",
    "    n = len(ary)\n",
    "    \n",
    "    while (i < n):\n",
    "        upheap(ary, i)\n",
    "        i += 1\n",
    "        \n",
    "    while (i > 1):\n",
    "        i -= 1\n",
    "        tmp = ary[0]\n",
    "        ary[0] = ary[i]\n",
    "        ary[i] = tmp\n",
    "        downheap(ary, i-1)\n",
    "\n",
    "def upheap(ary, n):\n",
    "    while n != 0:\n",
    "        parent = int((n - 1) / 2)\n",
    "        if ary[n] > ary[parent]:\n",
    "            tmp = ary[n]\n",
    "            ary[n] = ary[parent]\n",
    "            ary[parent] = tmp\n",
    "            n = parent\n",
    "        else:\n",
    "            break\n",
    "def downheap(ary, n):\n",
    "    if n == 0: return\n",
    "    parent = 0\n",
    "    while True:\n",
    "        child = 2 * parent + 1\n",
    "        if child > n: break\n",
    "        if (child < n) and ary[child] < ary[child + 1]:\n",
    "            child += 1\n",
    "        if ary[parent] < ary[child]:\n",
    "            tmp = ary[child]\n",
    "            ary[child] = ary[parent]\n",
    "            ary[parent] = tmp\n",
    "            parent = child\n",
    "        else:\n",
    "            break\n",
    "\n",
    "    \n",
    "ary = np.random.randint(1,10000,10000)\n",
    "t1 = time()\n",
    "heap_sort(ary)\n",
    "print(ary)\n",
    "t2 = time()\n",
    "print(t2-t1)"
   ]
  },
  {
   "cell_type": "code",
   "execution_count": null,
   "metadata": {
    "collapsed": true
   },
   "outputs": [],
   "source": []
  }
 ],
 "metadata": {
  "kernelspec": {
   "display_name": "Python 3",
   "language": "python",
   "name": "python3"
  },
  "language_info": {
   "codemirror_mode": {
    "name": "ipython",
    "version": 3
   },
   "file_extension": ".py",
   "mimetype": "text/x-python",
   "name": "python",
   "nbconvert_exporter": "python",
   "pygments_lexer": "ipython3",
   "version": "3.5.0"
  }
 },
 "nbformat": 4,
 "nbformat_minor": 2
}

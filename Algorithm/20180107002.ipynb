{
 "cells": [
  {
   "cell_type": "code",
   "execution_count": 1,
   "metadata": {
    "collapsed": true
   },
   "outputs": [],
   "source": [
    "import numpy as np\n",
    "from time import time"
   ]
  },
  {
   "cell_type": "code",
   "execution_count": 163,
   "metadata": {},
   "outputs": [
    {
     "name": "stdout",
     "output_type": "stream",
     "text": [
      "0.08576607704162598\n"
     ]
    }
   ],
   "source": [
    "def merge_sort(ary):\n",
    "    \n",
    "    def merge(left, right):\n",
    "        result, i_l, i_r = [], 0, 0\n",
    "        while ( i_l < len(left) ) & ( i_r < len(right) ):\n",
    "            if( left[i_l] > right[i_r] ):\n",
    "                result.append(right[i_r])\n",
    "                i_r += 1\n",
    "            else:\n",
    "                result.append(left[i_l])\n",
    "                i_l += 1\n",
    "\n",
    "        # join all elements after there is no more elements in one of arrays passed.\n",
    "        result += left[i_l:] + right[i_r:]\n",
    "        return result\n",
    "    \n",
    "    if( len(ary) == 1 ):\n",
    "        return [ary[0]]\n",
    "    else:\n",
    "        center = len(ary) // 2\n",
    "        return merge( merge_sort(ary[:center]), merge_sort(ary[center:]) )\n",
    "\n",
    "ary = np.random.randint(1,10000,10000)\n",
    "t1 = time()\n",
    "sorted_list = merge_sort(ary)\n",
    "t2 = time()\n",
    "print(t2-t1)"
   ]
  },
  {
   "cell_type": "code",
   "execution_count": 138,
   "metadata": {},
   "outputs": [],
   "source": [
    "#sorted_list[:100]"
   ]
  },
  {
   "cell_type": "code",
   "execution_count": null,
   "metadata": {
    "collapsed": true
   },
   "outputs": [],
   "source": []
  }
 ],
 "metadata": {
  "kernelspec": {
   "display_name": "Python 3",
   "language": "python",
   "name": "python3"
  },
  "language_info": {
   "codemirror_mode": {
    "name": "ipython",
    "version": 3
   },
   "file_extension": ".py",
   "mimetype": "text/x-python",
   "name": "python",
   "nbconvert_exporter": "python",
   "pygments_lexer": "ipython3",
   "version": "3.5.0"
  }
 },
 "nbformat": 4,
 "nbformat_minor": 2
}

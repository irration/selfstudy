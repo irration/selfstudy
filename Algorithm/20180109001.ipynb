{
 "cells": [
  {
   "cell_type": "code",
   "execution_count": 16,
   "metadata": {
    "collapsed": true
   },
   "outputs": [],
   "source": [
    "import numpy as np"
   ]
  },
  {
   "cell_type": "code",
   "execution_count": 26,
   "metadata": {},
   "outputs": [
    {
     "name": "stdout",
     "output_type": "stream",
     "text": [
      "Search: 0 -> -1\n",
      "Search: 1 -> -1\n",
      "Search: 2 -> 0\n",
      "Search: 3 -> 1\n",
      "Search: 4 -> 4\n",
      "Search: 5 -> -1\n",
      "Search: 6 -> -1\n",
      "Search: 7 -> 5\n",
      "Search: 8 -> 6\n",
      "Search: 9 -> 7\n"
     ]
    }
   ],
   "source": [
    "def binary_search(ary, x):\n",
    "    left, right = 0, len(ary)\n",
    "    \n",
    "    while left < right:\n",
    "        center = (right + left) // 2\n",
    "        if ary[center] < x: \n",
    "            left = center + 1\n",
    "        else:\n",
    "            right = center\n",
    "        if ary[left] == x:\n",
    "            return left\n",
    "    return -1\n",
    "    \n",
    "ary = [2, 3, 3, 3 ,4 ,7, 8, 9]\n",
    "for i in range(10):\n",
    "    print( 'Search: %d ->' % i, binary_search(ary, i) )"
   ]
  },
  {
   "cell_type": "code",
   "execution_count": null,
   "metadata": {
    "collapsed": true
   },
   "outputs": [],
   "source": []
  }
 ],
 "metadata": {
  "kernelspec": {
   "display_name": "Python 3",
   "language": "python",
   "name": "python3"
  },
  "language_info": {
   "codemirror_mode": {
    "name": "ipython",
    "version": 3
   },
   "file_extension": ".py",
   "mimetype": "text/x-python",
   "name": "python",
   "nbconvert_exporter": "python",
   "pygments_lexer": "ipython3",
   "version": "3.5.0"
  }
 },
 "nbformat": 4,
 "nbformat_minor": 2
}

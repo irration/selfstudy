{
 "cells": [
  {
   "cell_type": "markdown",
   "metadata": {},
   "source": [
    "# HeapSort Imprementation with Python"
   ]
  },
  {
   "cell_type": "markdown",
   "metadata": {},
   "source": [
    "This imprementation refers to the book 'INTRODUCTION TO ALGORITHMS' Chapter 6 - Heapsort."
   ]
  },
  {
   "cell_type": "markdown",
   "metadata": {},
   "source": [
    "## Algorithm"
   ]
  },
  {
   "cell_type": "code",
   "execution_count": 1,
   "metadata": {
    "collapsed": true
   },
   "outputs": [],
   "source": [
    "def max_heapify(A, i):\n",
    "    l = i * 2 + 1\n",
    "    r = l + 1\n",
    "    largest = i\n",
    "    \n",
    "    # create max-heap\n",
    "    if (l < len(A)) and (A[i] < A[l]):\n",
    "        largest = l\n",
    "    if (r < len(A)) and (A[largest] < A[r]):\n",
    "        largest = r\n",
    "        \n",
    "    # recursion\n",
    "    if largest == i:\n",
    "        return A\n",
    "    else:\n",
    "        tmp = A[largest]\n",
    "        A[largest] = A[i]\n",
    "        A[i] = tmp\n",
    "        return max_heapify(A, largest)\n",
    "\n",
    "def build_max_heap(A):\n",
    "    # because after the decimal point takes only 0 or 5, rounded value will always be rounded up\n",
    "    ranges = (list(range(round(len(A)/ 2)))[::-1])\n",
    "    for i in ranges:\n",
    "        A = max_heapify(A, i)\n",
    "    return A\n",
    "\n",
    "def heapsort(A):\n",
    "    A = build_max_heap(A)\n",
    "    last = len(A) - 1\n",
    "    while last >= 0:\n",
    "        tmp = A[0]\n",
    "        A[0] = A[last]\n",
    "        A[last] = tmp\n",
    "        A[:last] = max_heapify(A[:last], 0)\n",
    "        last -= 1\n",
    "    return A"
   ]
  },
  {
   "cell_type": "markdown",
   "metadata": {},
   "source": [
    "## Debug result"
   ]
  },
  {
   "cell_type": "code",
   "execution_count": 2,
   "metadata": {},
   "outputs": [
    {
     "name": "stdout",
     "output_type": "stream",
     "text": [
      "Generating randomized array...\n",
      "Done! Sorting...\n",
      "[    1     2     3 ..., 99994 99995 99996]\n",
      "Finished! Elapsed time: 1.806000(s)\n"
     ]
    }
   ],
   "source": [
    "import numpy as np\n",
    "from time import time\n",
    "\n",
    "print('Generating randomized array...')\n",
    "ary = np.random.randint(1, 100000, 100000)\n",
    "print('Done! Sorting...')\n",
    "t1 = time()\n",
    "ary = heapsort(ary)\n",
    "t2 = time()\n",
    "print(ary)\n",
    "print('Finished! Elapsed time: %f(s)' % (t2-t1))"
   ]
  }
 ],
 "metadata": {
  "kernelspec": {
   "display_name": "Python 3",
   "language": "python",
   "name": "python3"
  },
  "language_info": {
   "codemirror_mode": {
    "name": "ipython",
    "version": 3
   },
   "file_extension": ".py",
   "mimetype": "text/x-python",
   "name": "python",
   "nbconvert_exporter": "python",
   "pygments_lexer": "ipython3",
   "version": "3.5.1"
  }
 },
 "nbformat": 4,
 "nbformat_minor": 2
}

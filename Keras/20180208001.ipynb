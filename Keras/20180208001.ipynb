{
 "cells": [
  {
   "cell_type": "markdown",
   "metadata": {},
   "source": [
    "# Word Embedding\n",
    "Note: THIS BOOK IS FOR THE PURPOSE OF SELF-STUDY IN ORDER TO UNDERSTAND USING EMBEDDING. "
   ]
  },
  {
   "cell_type": "code",
   "execution_count": 13,
   "metadata": {},
   "outputs": [],
   "source": [
    "from keras.preprocessing.text import Tokenizer\n",
    "from keras.preprocessing import sequence\n",
    "from keras.models import Sequential\n",
    "from keras.layers import Flatten, Dense, Embedding"
   ]
  },
  {
   "cell_type": "code",
   "execution_count": 27,
   "metadata": {},
   "outputs": [],
   "source": [
    "texts = [\n",
    "    'This is a test for word embedding',\n",
    "    'I still cannot believe that a cabbage is equal to the squirrel',\n",
    "    'Computer is one of the most successful chopsticks',\n",
    "    'I guess his major is Geometrical Potato Discovery',\n",
    "    'Sometimes I wish I could be a cabbage',\n",
    "    'Mostly a squirrel is just like a punctuation, cabbage says'\n",
    "]"
   ]
  },
  {
   "cell_type": "code",
   "execution_count": 32,
   "metadata": {},
   "outputs": [
    {
     "data": {
      "text/plain": [
       "([[7, 1, 2, 8, 9],\n",
       "  [3, 2, 4, 1, 5, 6],\n",
       "  [1, 5],\n",
       "  [3, 1],\n",
       "  [3, 3, 2, 4],\n",
       "  [2, 6, 1, 2, 4]],\n",
       " {'a': 2,\n",
       "  'be': 33,\n",
       "  'believe': 14,\n",
       "  'cabbage': 4,\n",
       "  'cannot': 13,\n",
       "  'chopsticks': 23,\n",
       "  'computer': 18,\n",
       "  'could': 32,\n",
       "  'discovery': 29,\n",
       "  'embedding': 11,\n",
       "  'equal': 16,\n",
       "  'for': 9,\n",
       "  'geometrical': 27,\n",
       "  'guess': 24,\n",
       "  'his': 25,\n",
       "  'i': 3,\n",
       "  'is': 1,\n",
       "  'just': 35,\n",
       "  'like': 36,\n",
       "  'major': 26,\n",
       "  'most': 21,\n",
       "  'mostly': 34,\n",
       "  'of': 20,\n",
       "  'one': 19,\n",
       "  'potato': 28,\n",
       "  'punctuation': 37,\n",
       "  'says': 38,\n",
       "  'sometimes': 30,\n",
       "  'squirrel': 6,\n",
       "  'still': 12,\n",
       "  'successful': 22,\n",
       "  'test': 8,\n",
       "  'that': 15,\n",
       "  'the': 5,\n",
       "  'this': 7,\n",
       "  'to': 17,\n",
       "  'wish': 31,\n",
       "  'word': 10})"
      ]
     },
     "execution_count": 32,
     "metadata": {},
     "output_type": "execute_result"
    }
   ],
   "source": [
    "tokenizer = Tokenizer(num_words=10)\n",
    "tokenizer.fit_on_texts(texts)\n",
    "sequences = tokenizer.texts_to_sequences(texts)\n",
    "\n",
    "sequences, tokenizer.word_index"
   ]
  },
  {
   "cell_type": "code",
   "execution_count": 40,
   "metadata": {},
   "outputs": [],
   "source": [
    "x_train = sequence.pad_sequences(sequences, 10)\n",
    "y_train = [1,0,0,1,0,1]"
   ]
  },
  {
   "cell_type": "code",
   "execution_count": 39,
   "metadata": {},
   "outputs": [
    {
     "name": "stdout",
     "output_type": "stream",
     "text": [
      "_________________________________________________________________\n",
      "Layer (type)                 Output Shape              Param #   \n",
      "=================================================================\n",
      "embedding_1 (Embedding)      (None, 10, 8)             304       \n",
      "_________________________________________________________________\n",
      "flatten_1 (Flatten)          (None, 80)                0         \n",
      "_________________________________________________________________\n",
      "dense_1 (Dense)              (None, 1)                 81        \n",
      "=================================================================\n",
      "Total params: 385\n",
      "Trainable params: 385\n",
      "Non-trainable params: 0\n",
      "_________________________________________________________________\n"
     ]
    }
   ],
   "source": [
    "model = Sequential()\n",
    "model.add(Embedding(max(tokenizer.word_index.values()), 8, input_length=10))\n",
    "model.add(Flatten())\n",
    "model.add(Dense(1, activation='sigmoid'))\n",
    "model.compile(optimizer='rmsprop', loss='binary_crossentropy', metrics=['acc'])\n",
    "model.summary()"
   ]
  },
  {
   "cell_type": "code",
   "execution_count": 41,
   "metadata": {},
   "outputs": [
    {
     "name": "stdout",
     "output_type": "stream",
     "text": [
      "Epoch 1/1\n",
      "6/6 [==============================] - 0s 69ms/step - loss: 0.6874 - acc: 0.6667\n"
     ]
    },
    {
     "data": {
      "text/plain": [
       "<keras.callbacks.History at 0x7f53d5b9cc18>"
      ]
     },
     "execution_count": 41,
     "metadata": {},
     "output_type": "execute_result"
    }
   ],
   "source": [
    "model.fit(x_train, y_train, epochs=1, batch_size=1)"
   ]
  }
 ],
 "metadata": {
  "kernelspec": {
   "display_name": "Python 3",
   "language": "python",
   "name": "python3"
  },
  "language_info": {
   "codemirror_mode": {
    "name": "ipython",
    "version": 3
   },
   "file_extension": ".py",
   "mimetype": "text/x-python",
   "name": "python",
   "nbconvert_exporter": "python",
   "pygments_lexer": "ipython3",
   "version": "3.5.3"
  }
 },
 "nbformat": 4,
 "nbformat_minor": 2
}
